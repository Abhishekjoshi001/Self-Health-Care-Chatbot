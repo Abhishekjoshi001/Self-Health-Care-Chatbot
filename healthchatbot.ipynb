{
  "nbformat": 4,
  "nbformat_minor": 0,
  "metadata": {
    "colab": {
      "provenance": [],
      "include_colab_link": true
    },
    "kernelspec": {
      "name": "python3",
      "display_name": "Python 3"
    },
    "language_info": {
      "name": "python"
    }
  },
  "cells": [
    {
      "cell_type": "markdown",
      "metadata": {
        "id": "view-in-github",
        "colab_type": "text"
      },
      "source": [
        "<a href=\"https://colab.research.google.com/github/Abhishekjoshi001/Self-Health-Care-Chatbot/blob/main/healthchatbot.ipynb\" target=\"_parent\"><img src=\"https://colab.research.google.com/assets/colab-badge.svg\" alt=\"Open In Colab\"/></a>"
      ]
    },
    {
      "cell_type": "markdown",
      "source": [
        "ML Project -> Self Health Care ChatBot"
      ],
      "metadata": {
        "id": "V4cycwqFkhGY"
      }
    },
    {
      "cell_type": "code",
      "source": [
        "print(\"Abhi vasu sinchana\")"
      ],
      "metadata": {
        "id": "RPbQbYdrkmwG",
        "outputId": "0a3b1cfb-61b8-424d-80dc-0f40084c6414",
        "colab": {
          "base_uri": "https://localhost:8080/"
        }
      },
      "execution_count": null,
      "outputs": [
        {
          "output_type": "stream",
          "name": "stdout",
          "text": [
            "Abhi vasu sinchana\n"
          ]
        }
      ]
    },
    {
      "cell_type": "code",
      "source": [
        "!mkdir data models notebooks src"
      ],
      "metadata": {
        "id": "XJTwQ1krvqVO"
      },
      "execution_count": 1,
      "outputs": []
    },
    {
      "cell_type": "code",
      "source": [
        "!touch data/.gitkeep\n",
        "!touch models/.gitkeep\n",
        "!touch notebooks/.gitkeep\n",
        "!touch src/.gitkeep"
      ],
      "metadata": {
        "id": "loJQiBeHv0tS"
      },
      "execution_count": 3,
      "outputs": []
    },
    {
      "cell_type": "code",
      "source": [
        "!git add ."
      ],
      "metadata": {
        "colab": {
          "base_uri": "https://localhost:8080/"
        },
        "id": "HtwsHBI-xoik",
        "outputId": "93c4b103-1bdf-4a6f-d30c-3966d67cb09d"
      },
      "execution_count": 4,
      "outputs": [
        {
          "output_type": "stream",
          "name": "stdout",
          "text": [
            "fatal: not a git repository (or any of the parent directories): .git\n"
          ]
        }
      ]
    }
  ]
}