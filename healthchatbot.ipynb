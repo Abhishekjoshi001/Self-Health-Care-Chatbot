{
  "nbformat": 4,
  "nbformat_minor": 0,
  "metadata": {
    "colab": {
      "provenance": [],
      "include_colab_link": true
    },
    "kernelspec": {
      "name": "python3",
      "display_name": "Python 3"
    },
    "language_info": {
      "name": "python"
    }
  },
  "cells": [
    {
      "cell_type": "markdown",
      "metadata": {
        "id": "view-in-github",
        "colab_type": "text"
      },
      "source": [
        "<a href=\"https://colab.research.google.com/github/Abhishekjoshi001/Self-Health-Care-Chatbot/blob/main/healthchatbot.ipynb\" target=\"_parent\"><img src=\"https://colab.research.google.com/assets/colab-badge.svg\" alt=\"Open In Colab\"/></a>"
      ]
    },
    {
      "cell_type": "markdown",
      "source": [
        "ML Project -> Self Health Care ChatBot"
      ],
      "metadata": {
        "id": "V4cycwqFkhGY"
      }
    },
    {
      "cell_type": "code",
      "source": [
        "print(\"Abhi vasu sinchana2\")"
      ],
      "metadata": {
        "id": "RPbQbYdrkmwG",
        "outputId": "fcb77ede-e1a7-4b4e-cf76-d7e678f3647e",
        "colab": {
          "base_uri": "https://localhost:8080/"
        }
      },
      "execution_count": 6,
      "outputs": [
        {
          "output_type": "stream",
          "name": "stdout",
          "text": [
            "Abhi vasu sinchana2\n"
          ]
        }
      ]
    }
  ]
}